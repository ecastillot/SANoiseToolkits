{
 "metadata": {
  "language_info": {
   "codemirror_mode": {
    "name": "ipython",
    "version": 3
   },
   "file_extension": ".py",
   "mimetype": "text/x-python",
   "name": "python",
   "nbconvert_exporter": "python",
   "pygments_lexer": "ipython3",
   "version": 3
  },
  "orig_nbformat": 2
 },
 "nbformat": 4,
 "nbformat_minor": 2,
 "cells": [
  {
   "cell_type": "code",
   "execution_count": null,
   "metadata": {},
   "outputs": [],
   "source": [
    "import sys\n",
    "AIpicker_module_path = \"/content/drive/Shareddrives/AIpicker/opt/AIpicker\"\n",
    "EQTransformer_module_path = \"/content/drive/Shareddrives/AIpicker/opt/EQTransformer\"\n",
    "sys.path.insert(0,AIpicker_module_path)\n",
    "sys.path.insert(0,EQTransformer_module_path)"
   ]
  }
 ]
}